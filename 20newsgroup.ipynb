{
 "metadata": {
  "language_info": {
   "codemirror_mode": {
    "name": "ipython",
    "version": 3
   },
   "file_extension": ".py",
   "mimetype": "text/x-python",
   "name": "python",
   "nbconvert_exporter": "python",
   "pygments_lexer": "ipython3",
   "version": "3.8.5"
  },
  "orig_nbformat": 4,
  "kernelspec": {
   "name": "python3",
   "display_name": "Python 3.8.5 64-bit"
  },
  "interpreter": {
   "hash": "12124c709e3e9d27e1eceabeea88570631f49372c6b738be379c7a5b10598292"
  }
 },
 "nbformat": 4,
 "nbformat_minor": 2,
 "cells": [
  {
   "cell_type": "code",
   "execution_count": 14,
   "metadata": {},
   "outputs": [],
   "source": [
    "# Carregamento do dataset 20 Newsgroups\n",
    "\n",
    "import numpy as np\n",
    "import pandas as pd\n",
    "import matplotlib.pyplot as plt\n",
    "%matplotlib inline\n",
    "\n",
    "from sklearn.datasets import fetch_20newsgroups\n",
    "\n",
    "cats = ['alt.atheism', 'sci.space']\n",
    "\n",
    "newsgroups_train = fetch_20newsgroups(subset='train', remove=('headers', 'footers', 'quotes') )\n",
    "newsgroups_test = fetch_20newsgroups(subset='test', remove=('headers', 'footers', 'quotes'))\n",
    "\n",
    "X_train = np.array(newsgroups_train.data)\n",
    "y_train = np.array(newsgroups_train.target)\n",
    "X_test = np.array(newsgroups_test.data)\n",
    "y_test = np.array(newsgroups_test.target)"
   ]
  },
  {
   "cell_type": "code",
   "execution_count": 3,
   "metadata": {},
   "outputs": [
    {
     "output_type": "execute_result",
     "data": {
      "text/plain": [
       "'sci.space'"
      ]
     },
     "metadata": {},
     "execution_count": 3
    }
   ],
   "source": [
    "newsgroups_train.target_names[y_train[18]]"
   ]
  },
  {
   "cell_type": "code",
   "execution_count": 11,
   "metadata": {},
   "outputs": [
    {
     "output_type": "execute_result",
     "data": {
      "text/plain": [
       "['alt.atheism', 'sci.space']"
      ]
     },
     "metadata": {},
     "execution_count": 11
    }
   ],
   "source": [
    "newsgroups_train.target_names"
   ]
  },
  {
   "cell_type": "code",
   "execution_count": 15,
   "metadata": {},
   "outputs": [
    {
     "output_type": "execute_result",
     "data": {
      "text/plain": [
       "                          # docs treino  # docs teste  # total docs\n",
       "rec.sport.hockey                    600           399           999\n",
       "soc.religion.christian              599           398           997\n",
       "rec.motorcycles                     598           398           996\n",
       "rec.sport.baseball                  597           397           994\n",
       "sci.crypt                           595           396           991\n",
       "rec.autos                           594           396           990\n",
       "sci.med                             594           396           990\n",
       "sci.space                           593           394           987\n",
       "comp.windows.x                      593           395           988\n",
       "sci.electronics                     591           393           984\n",
       "comp.os.ms-windows.misc             591           394           985\n",
       "comp.sys.ibm.pc.hardware            590           392           982\n",
       "misc.forsale                        585           390           975\n",
       "comp.graphics                       584           389           973\n",
       "comp.sys.mac.hardware               578           385           963\n",
       "talk.politics.mideast               564           376           940\n",
       "talk.politics.guns                  546           364           910\n",
       "alt.atheism                         480           319           799\n",
       "talk.politics.misc                  465           310           775\n",
       "talk.religion.misc                  377           251           628\n",
       "Total                             11314          7532         18846"
      ],
      "text/html": "<div>\n<style scoped>\n    .dataframe tbody tr th:only-of-type {\n        vertical-align: middle;\n    }\n\n    .dataframe tbody tr th {\n        vertical-align: top;\n    }\n\n    .dataframe thead th {\n        text-align: right;\n    }\n</style>\n<table border=\"1\" class=\"dataframe\">\n  <thead>\n    <tr style=\"text-align: right;\">\n      <th></th>\n      <th># docs treino</th>\n      <th># docs teste</th>\n      <th># total docs</th>\n    </tr>\n  </thead>\n  <tbody>\n    <tr>\n      <th>rec.sport.hockey</th>\n      <td>600</td>\n      <td>399</td>\n      <td>999</td>\n    </tr>\n    <tr>\n      <th>soc.religion.christian</th>\n      <td>599</td>\n      <td>398</td>\n      <td>997</td>\n    </tr>\n    <tr>\n      <th>rec.motorcycles</th>\n      <td>598</td>\n      <td>398</td>\n      <td>996</td>\n    </tr>\n    <tr>\n      <th>rec.sport.baseball</th>\n      <td>597</td>\n      <td>397</td>\n      <td>994</td>\n    </tr>\n    <tr>\n      <th>sci.crypt</th>\n      <td>595</td>\n      <td>396</td>\n      <td>991</td>\n    </tr>\n    <tr>\n      <th>rec.autos</th>\n      <td>594</td>\n      <td>396</td>\n      <td>990</td>\n    </tr>\n    <tr>\n      <th>sci.med</th>\n      <td>594</td>\n      <td>396</td>\n      <td>990</td>\n    </tr>\n    <tr>\n      <th>sci.space</th>\n      <td>593</td>\n      <td>394</td>\n      <td>987</td>\n    </tr>\n    <tr>\n      <th>comp.windows.x</th>\n      <td>593</td>\n      <td>395</td>\n      <td>988</td>\n    </tr>\n    <tr>\n      <th>sci.electronics</th>\n      <td>591</td>\n      <td>393</td>\n      <td>984</td>\n    </tr>\n    <tr>\n      <th>comp.os.ms-windows.misc</th>\n      <td>591</td>\n      <td>394</td>\n      <td>985</td>\n    </tr>\n    <tr>\n      <th>comp.sys.ibm.pc.hardware</th>\n      <td>590</td>\n      <td>392</td>\n      <td>982</td>\n    </tr>\n    <tr>\n      <th>misc.forsale</th>\n      <td>585</td>\n      <td>390</td>\n      <td>975</td>\n    </tr>\n    <tr>\n      <th>comp.graphics</th>\n      <td>584</td>\n      <td>389</td>\n      <td>973</td>\n    </tr>\n    <tr>\n      <th>comp.sys.mac.hardware</th>\n      <td>578</td>\n      <td>385</td>\n      <td>963</td>\n    </tr>\n    <tr>\n      <th>talk.politics.mideast</th>\n      <td>564</td>\n      <td>376</td>\n      <td>940</td>\n    </tr>\n    <tr>\n      <th>talk.politics.guns</th>\n      <td>546</td>\n      <td>364</td>\n      <td>910</td>\n    </tr>\n    <tr>\n      <th>alt.atheism</th>\n      <td>480</td>\n      <td>319</td>\n      <td>799</td>\n    </tr>\n    <tr>\n      <th>talk.politics.misc</th>\n      <td>465</td>\n      <td>310</td>\n      <td>775</td>\n    </tr>\n    <tr>\n      <th>talk.religion.misc</th>\n      <td>377</td>\n      <td>251</td>\n      <td>628</td>\n    </tr>\n    <tr>\n      <th>Total</th>\n      <td>11314</td>\n      <td>7532</td>\n      <td>18846</td>\n    </tr>\n  </tbody>\n</table>\n</div>"
     },
     "metadata": {},
     "execution_count": 15
    }
   ],
   "source": [
    "# Contagem de documentos de treino e teste por label\n",
    "\n",
    "def conta_labels(y_train, y_test):\n",
    "    \"\"\"Retorna dataframe com os total de documentos em cada classe\n",
    "    de treinamento e teste. Ref.: Cachopo (2007)\"\"\"\n",
    "    y_train_classes = pd.DataFrame([newsgroups_train.target_names[i] for i in newsgroups_train.target])[0]\n",
    "    y_test_classes = pd.DataFrame([newsgroups_test.target_names[i] for i in newsgroups_test.target])[0]\n",
    "    \n",
    "    contagem_df = pd.concat([y_train_classes.value_counts(),\n",
    "                             y_test_classes.value_counts()],\n",
    "                            axis=1, \n",
    "                            keys=[\"# docs treino\", \"# docs teste\"], \n",
    "                            sort=False)\n",
    "    \n",
    "    contagem_df[\"# total docs\"] = contagem_df.sum(axis=1)\n",
    "    contagem_df.loc[\"Total\"] = contagem_df.sum(axis=0)\n",
    "    \n",
    "    return contagem_df\n",
    "\n",
    "newsgroups_df_labels = conta_labels(y_train, y_test)\n",
    "newsgroups_df_labels"
   ]
  },
  {
   "cell_type": "code",
   "execution_count": 5,
   "metadata": {},
   "outputs": [
    {
     "output_type": "display_data",
     "data": {
      "text/plain": "<Figure size 720x576 with 1 Axes>",
      "image/svg+xml": "<?xml version=\"1.0\" encoding=\"utf-8\" standalone=\"no\"?>\r\n<!DOCTYPE svg PUBLIC \"-//W3C//DTD SVG 1.1//EN\"\r\n  \"http://www.w3.org/Graphics/SVG/1.1/DTD/svg11.dtd\">\r\n<!-- Created with matplotlib (https://matplotlib.org/) -->\r\n<svg height=\"481.55625pt\" version=\"1.1\" viewBox=\"0 0 635.671875 481.55625\" width=\"635.671875pt\" xmlns=\"http://www.w3.org/2000/svg\" xmlns:xlink=\"http://www.w3.org/1999/xlink\">\r\n <metadata>\r\n  <rdf:RDF xmlns:cc=\"http://creativecommons.org/ns#\" xmlns:dc=\"http://purl.org/dc/elements/1.1/\" xmlns:rdf=\"http://www.w3.org/1999/02/22-rdf-syntax-ns#\">\r\n   <cc:Work>\r\n    <dc:type rdf:resource=\"http://purl.org/dc/dcmitype/StillImage\"/>\r\n    <dc:date>2021-06-29T02:04:55.653814</dc:date>\r\n    <dc:format>image/svg+xml</dc:format>\r\n    <dc:creator>\r\n     <cc:Agent>\r\n      <dc:title>Matplotlib v3.3.2, https://matplotlib.org/</dc:title>\r\n     </cc:Agent>\r\n    </dc:creator>\r\n   </cc:Work>\r\n  </rdf:RDF>\r\n </metadata>\r\n <defs>\r\n  <style type=\"text/css\">*{stroke-linecap:butt;stroke-linejoin:round;}</style>\r\n </defs>\r\n <g id=\"figure_1\">\r\n  <g id=\"patch_1\">\r\n   <path d=\"M 0 481.55625 \r\nL 635.671875 481.55625 \r\nL 635.671875 0 \r\nL 0 0 \r\nz\r\n\" style=\"fill:none;\"/>\r\n  </g>\r\n  <g id=\"axes_1\">\r\n   <g id=\"patch_2\">\r\n    <path d=\"M 70.471875 457.678125 \r\nL 628.471875 457.678125 \r\nL 628.471875 22.798125 \r\nL 70.471875 22.798125 \r\nz\r\n\" style=\"fill:#ffffff;\"/>\r\n   </g>\r\n   <g id=\"patch_3\">\r\n    <path clip-path=\"url(#p9ec9bbb1bd)\" d=\"M 70.471875 403.318125 \r\nL 389.75976 403.318125 \r\nL 389.75976 294.598125 \r\nL 70.471875 294.598125 \r\nz\r\n\" style=\"fill:#1f77b4;\"/>\r\n   </g>\r\n   <g id=\"patch_4\">\r\n    <path clip-path=\"url(#p9ec9bbb1bd)\" d=\"M 70.471875 185.878125 \r\nL 328.917381 185.878125 \r\nL 328.917381 77.158125 \r\nL 70.471875 77.158125 \r\nz\r\n\" style=\"fill:#1f77b4;\"/>\r\n   </g>\r\n   <g id=\"patch_5\">\r\n    <path clip-path=\"url(#p9ec9bbb1bd)\" d=\"M 389.75976 403.318125 \r\nL 601.900446 403.318125 \r\nL 601.900446 294.598125 \r\nL 389.75976 294.598125 \r\nz\r\n\" style=\"fill:#ff7f0e;\"/>\r\n   </g>\r\n   <g id=\"patch_6\">\r\n    <path clip-path=\"url(#p9ec9bbb1bd)\" d=\"M 328.917381 185.878125 \r\nL 500.675957 185.878125 \r\nL 500.675957 77.158125 \r\nL 328.917381 77.158125 \r\nz\r\n\" style=\"fill:#ff7f0e;\"/>\r\n   </g>\r\n   <g id=\"matplotlib.axis_1\">\r\n    <g id=\"xtick_1\">\r\n     <g id=\"line2d_1\">\r\n      <defs>\r\n       <path d=\"M 0 0 \r\nL 0 3.5 \r\n\" id=\"m7badf77677\" style=\"stroke:#000000;stroke-width:0.8;\"/>\r\n      </defs>\r\n      <g>\r\n       <use style=\"stroke:#000000;stroke-width:0.8;\" x=\"70.471875\" xlink:href=\"#m7badf77677\" y=\"457.678125\"/>\r\n      </g>\r\n     </g>\r\n     <g id=\"text_1\">\r\n      <!-- 0 -->\r\n      <g transform=\"translate(67.290625 472.276562)scale(0.1 -0.1)\">\r\n       <defs>\r\n        <path d=\"M 31.78125 66.40625 \r\nQ 24.171875 66.40625 20.328125 58.90625 \r\nQ 16.5 51.421875 16.5 36.375 \r\nQ 16.5 21.390625 20.328125 13.890625 \r\nQ 24.171875 6.390625 31.78125 6.390625 \r\nQ 39.453125 6.390625 43.28125 13.890625 \r\nQ 47.125 21.390625 47.125 36.375 \r\nQ 47.125 51.421875 43.28125 58.90625 \r\nQ 39.453125 66.40625 31.78125 66.40625 \r\nz\r\nM 31.78125 74.21875 \r\nQ 44.046875 74.21875 50.515625 64.515625 \r\nQ 56.984375 54.828125 56.984375 36.375 \r\nQ 56.984375 17.96875 50.515625 8.265625 \r\nQ 44.046875 -1.421875 31.78125 -1.421875 \r\nQ 19.53125 -1.421875 13.0625 8.265625 \r\nQ 6.59375 17.96875 6.59375 36.375 \r\nQ 6.59375 54.828125 13.0625 64.515625 \r\nQ 19.53125 74.21875 31.78125 74.21875 \r\nz\r\n\" id=\"DejaVuSans-48\"/>\r\n       </defs>\r\n       <use xlink:href=\"#DejaVuSans-48\"/>\r\n      </g>\r\n     </g>\r\n    </g>\r\n    <g id=\"xtick_2\">\r\n     <g id=\"line2d_2\">\r\n      <g>\r\n       <use style=\"stroke:#000000;stroke-width:0.8;\" x=\"178.157502\" xlink:href=\"#m7badf77677\" y=\"457.678125\"/>\r\n      </g>\r\n     </g>\r\n     <g id=\"text_2\">\r\n      <!-- 200 -->\r\n      <g transform=\"translate(168.613752 472.276562)scale(0.1 -0.1)\">\r\n       <defs>\r\n        <path d=\"M 19.1875 8.296875 \r\nL 53.609375 8.296875 \r\nL 53.609375 0 \r\nL 7.328125 0 \r\nL 7.328125 8.296875 \r\nQ 12.9375 14.109375 22.625 23.890625 \r\nQ 32.328125 33.6875 34.8125 36.53125 \r\nQ 39.546875 41.84375 41.421875 45.53125 \r\nQ 43.3125 49.21875 43.3125 52.78125 \r\nQ 43.3125 58.59375 39.234375 62.25 \r\nQ 35.15625 65.921875 28.609375 65.921875 \r\nQ 23.96875 65.921875 18.8125 64.3125 \r\nQ 13.671875 62.703125 7.8125 59.421875 \r\nL 7.8125 69.390625 \r\nQ 13.765625 71.78125 18.9375 73 \r\nQ 24.125 74.21875 28.421875 74.21875 \r\nQ 39.75 74.21875 46.484375 68.546875 \r\nQ 53.21875 62.890625 53.21875 53.421875 \r\nQ 53.21875 48.921875 51.53125 44.890625 \r\nQ 49.859375 40.875 45.40625 35.40625 \r\nQ 44.1875 33.984375 37.640625 27.21875 \r\nQ 31.109375 20.453125 19.1875 8.296875 \r\nz\r\n\" id=\"DejaVuSans-50\"/>\r\n       </defs>\r\n       <use xlink:href=\"#DejaVuSans-50\"/>\r\n       <use x=\"63.623047\" xlink:href=\"#DejaVuSans-48\"/>\r\n       <use x=\"127.246094\" xlink:href=\"#DejaVuSans-48\"/>\r\n      </g>\r\n     </g>\r\n    </g>\r\n    <g id=\"xtick_3\">\r\n     <g id=\"line2d_3\">\r\n      <g>\r\n       <use style=\"stroke:#000000;stroke-width:0.8;\" x=\"285.84313\" xlink:href=\"#m7badf77677\" y=\"457.678125\"/>\r\n      </g>\r\n     </g>\r\n     <g id=\"text_3\">\r\n      <!-- 400 -->\r\n      <g transform=\"translate(276.29938 472.276562)scale(0.1 -0.1)\">\r\n       <defs>\r\n        <path d=\"M 37.796875 64.3125 \r\nL 12.890625 25.390625 \r\nL 37.796875 25.390625 \r\nz\r\nM 35.203125 72.90625 \r\nL 47.609375 72.90625 \r\nL 47.609375 25.390625 \r\nL 58.015625 25.390625 \r\nL 58.015625 17.1875 \r\nL 47.609375 17.1875 \r\nL 47.609375 0 \r\nL 37.796875 0 \r\nL 37.796875 17.1875 \r\nL 4.890625 17.1875 \r\nL 4.890625 26.703125 \r\nz\r\n\" id=\"DejaVuSans-52\"/>\r\n       </defs>\r\n       <use xlink:href=\"#DejaVuSans-52\"/>\r\n       <use x=\"63.623047\" xlink:href=\"#DejaVuSans-48\"/>\r\n       <use x=\"127.246094\" xlink:href=\"#DejaVuSans-48\"/>\r\n      </g>\r\n     </g>\r\n    </g>\r\n    <g id=\"xtick_4\">\r\n     <g id=\"line2d_4\">\r\n      <g>\r\n       <use style=\"stroke:#000000;stroke-width:0.8;\" x=\"393.528757\" xlink:href=\"#m7badf77677\" y=\"457.678125\"/>\r\n      </g>\r\n     </g>\r\n     <g id=\"text_4\">\r\n      <!-- 600 -->\r\n      <g transform=\"translate(383.985007 472.276562)scale(0.1 -0.1)\">\r\n       <defs>\r\n        <path d=\"M 33.015625 40.375 \r\nQ 26.375 40.375 22.484375 35.828125 \r\nQ 18.609375 31.296875 18.609375 23.390625 \r\nQ 18.609375 15.53125 22.484375 10.953125 \r\nQ 26.375 6.390625 33.015625 6.390625 \r\nQ 39.65625 6.390625 43.53125 10.953125 \r\nQ 47.40625 15.53125 47.40625 23.390625 \r\nQ 47.40625 31.296875 43.53125 35.828125 \r\nQ 39.65625 40.375 33.015625 40.375 \r\nz\r\nM 52.59375 71.296875 \r\nL 52.59375 62.3125 \r\nQ 48.875 64.0625 45.09375 64.984375 \r\nQ 41.3125 65.921875 37.59375 65.921875 \r\nQ 27.828125 65.921875 22.671875 59.328125 \r\nQ 17.53125 52.734375 16.796875 39.40625 \r\nQ 19.671875 43.65625 24.015625 45.921875 \r\nQ 28.375 48.1875 33.59375 48.1875 \r\nQ 44.578125 48.1875 50.953125 41.515625 \r\nQ 57.328125 34.859375 57.328125 23.390625 \r\nQ 57.328125 12.15625 50.6875 5.359375 \r\nQ 44.046875 -1.421875 33.015625 -1.421875 \r\nQ 20.359375 -1.421875 13.671875 8.265625 \r\nQ 6.984375 17.96875 6.984375 36.375 \r\nQ 6.984375 53.65625 15.1875 63.9375 \r\nQ 23.390625 74.21875 37.203125 74.21875 \r\nQ 40.921875 74.21875 44.703125 73.484375 \r\nQ 48.484375 72.75 52.59375 71.296875 \r\nz\r\n\" id=\"DejaVuSans-54\"/>\r\n       </defs>\r\n       <use xlink:href=\"#DejaVuSans-54\"/>\r\n       <use x=\"63.623047\" xlink:href=\"#DejaVuSans-48\"/>\r\n       <use x=\"127.246094\" xlink:href=\"#DejaVuSans-48\"/>\r\n      </g>\r\n     </g>\r\n    </g>\r\n    <g id=\"xtick_5\">\r\n     <g id=\"line2d_5\">\r\n      <g>\r\n       <use style=\"stroke:#000000;stroke-width:0.8;\" x=\"501.214385\" xlink:href=\"#m7badf77677\" y=\"457.678125\"/>\r\n      </g>\r\n     </g>\r\n     <g id=\"text_5\">\r\n      <!-- 800 -->\r\n      <g transform=\"translate(491.670635 472.276562)scale(0.1 -0.1)\">\r\n       <defs>\r\n        <path d=\"M 31.78125 34.625 \r\nQ 24.75 34.625 20.71875 30.859375 \r\nQ 16.703125 27.09375 16.703125 20.515625 \r\nQ 16.703125 13.921875 20.71875 10.15625 \r\nQ 24.75 6.390625 31.78125 6.390625 \r\nQ 38.8125 6.390625 42.859375 10.171875 \r\nQ 46.921875 13.96875 46.921875 20.515625 \r\nQ 46.921875 27.09375 42.890625 30.859375 \r\nQ 38.875 34.625 31.78125 34.625 \r\nz\r\nM 21.921875 38.8125 \r\nQ 15.578125 40.375 12.03125 44.71875 \r\nQ 8.5 49.078125 8.5 55.328125 \r\nQ 8.5 64.0625 14.71875 69.140625 \r\nQ 20.953125 74.21875 31.78125 74.21875 \r\nQ 42.671875 74.21875 48.875 69.140625 \r\nQ 55.078125 64.0625 55.078125 55.328125 \r\nQ 55.078125 49.078125 51.53125 44.71875 \r\nQ 48 40.375 41.703125 38.8125 \r\nQ 48.828125 37.15625 52.796875 32.3125 \r\nQ 56.78125 27.484375 56.78125 20.515625 \r\nQ 56.78125 9.90625 50.3125 4.234375 \r\nQ 43.84375 -1.421875 31.78125 -1.421875 \r\nQ 19.734375 -1.421875 13.25 4.234375 \r\nQ 6.78125 9.90625 6.78125 20.515625 \r\nQ 6.78125 27.484375 10.78125 32.3125 \r\nQ 14.796875 37.15625 21.921875 38.8125 \r\nz\r\nM 18.3125 54.390625 \r\nQ 18.3125 48.734375 21.84375 45.5625 \r\nQ 25.390625 42.390625 31.78125 42.390625 \r\nQ 38.140625 42.390625 41.71875 45.5625 \r\nQ 45.3125 48.734375 45.3125 54.390625 \r\nQ 45.3125 60.0625 41.71875 63.234375 \r\nQ 38.140625 66.40625 31.78125 66.40625 \r\nQ 25.390625 66.40625 21.84375 63.234375 \r\nQ 18.3125 60.0625 18.3125 54.390625 \r\nz\r\n\" id=\"DejaVuSans-56\"/>\r\n       </defs>\r\n       <use xlink:href=\"#DejaVuSans-56\"/>\r\n       <use x=\"63.623047\" xlink:href=\"#DejaVuSans-48\"/>\r\n       <use x=\"127.246094\" xlink:href=\"#DejaVuSans-48\"/>\r\n      </g>\r\n     </g>\r\n    </g>\r\n    <g id=\"xtick_6\">\r\n     <g id=\"line2d_6\">\r\n      <g>\r\n       <use style=\"stroke:#000000;stroke-width:0.8;\" x=\"608.900012\" xlink:href=\"#m7badf77677\" y=\"457.678125\"/>\r\n      </g>\r\n     </g>\r\n     <g id=\"text_6\">\r\n      <!-- 1000 -->\r\n      <g transform=\"translate(596.175012 472.276562)scale(0.1 -0.1)\">\r\n       <defs>\r\n        <path d=\"M 12.40625 8.296875 \r\nL 28.515625 8.296875 \r\nL 28.515625 63.921875 \r\nL 10.984375 60.40625 \r\nL 10.984375 69.390625 \r\nL 28.421875 72.90625 \r\nL 38.28125 72.90625 \r\nL 38.28125 8.296875 \r\nL 54.390625 8.296875 \r\nL 54.390625 0 \r\nL 12.40625 0 \r\nz\r\n\" id=\"DejaVuSans-49\"/>\r\n       </defs>\r\n       <use xlink:href=\"#DejaVuSans-49\"/>\r\n       <use x=\"63.623047\" xlink:href=\"#DejaVuSans-48\"/>\r\n       <use x=\"127.246094\" xlink:href=\"#DejaVuSans-48\"/>\r\n       <use x=\"190.869141\" xlink:href=\"#DejaVuSans-48\"/>\r\n      </g>\r\n     </g>\r\n    </g>\r\n   </g>\r\n   <g id=\"matplotlib.axis_2\">\r\n    <g id=\"ytick_1\">\r\n     <g id=\"line2d_7\">\r\n      <defs>\r\n       <path d=\"M 0 0 \r\nL -3.5 0 \r\n\" id=\"m0e64b01d99\" style=\"stroke:#000000;stroke-width:0.8;\"/>\r\n      </defs>\r\n      <g>\r\n       <use style=\"stroke:#000000;stroke-width:0.8;\" x=\"70.471875\" xlink:href=\"#m0e64b01d99\" y=\"348.958125\"/>\r\n      </g>\r\n     </g>\r\n     <g id=\"text_7\">\r\n      <!-- sci.space -->\r\n      <g transform=\"translate(17.470313 352.757344)scale(0.1 -0.1)\">\r\n       <defs>\r\n        <path d=\"M 44.28125 53.078125 \r\nL 44.28125 44.578125 \r\nQ 40.484375 46.53125 36.375 47.5 \r\nQ 32.28125 48.484375 27.875 48.484375 \r\nQ 21.1875 48.484375 17.84375 46.4375 \r\nQ 14.5 44.390625 14.5 40.28125 \r\nQ 14.5 37.15625 16.890625 35.375 \r\nQ 19.28125 33.59375 26.515625 31.984375 \r\nL 29.59375 31.296875 \r\nQ 39.15625 29.25 43.1875 25.515625 \r\nQ 47.21875 21.78125 47.21875 15.09375 \r\nQ 47.21875 7.46875 41.1875 3.015625 \r\nQ 35.15625 -1.421875 24.609375 -1.421875 \r\nQ 20.21875 -1.421875 15.453125 -0.5625 \r\nQ 10.6875 0.296875 5.421875 2 \r\nL 5.421875 11.28125 \r\nQ 10.40625 8.6875 15.234375 7.390625 \r\nQ 20.0625 6.109375 24.8125 6.109375 \r\nQ 31.15625 6.109375 34.5625 8.28125 \r\nQ 37.984375 10.453125 37.984375 14.40625 \r\nQ 37.984375 18.0625 35.515625 20.015625 \r\nQ 33.0625 21.96875 24.703125 23.78125 \r\nL 21.578125 24.515625 \r\nQ 13.234375 26.265625 9.515625 29.90625 \r\nQ 5.8125 33.546875 5.8125 39.890625 \r\nQ 5.8125 47.609375 11.28125 51.796875 \r\nQ 16.75 56 26.8125 56 \r\nQ 31.78125 56 36.171875 55.265625 \r\nQ 40.578125 54.546875 44.28125 53.078125 \r\nz\r\n\" id=\"DejaVuSans-115\"/>\r\n        <path d=\"M 48.78125 52.59375 \r\nL 48.78125 44.1875 \r\nQ 44.96875 46.296875 41.140625 47.34375 \r\nQ 37.3125 48.390625 33.40625 48.390625 \r\nQ 24.65625 48.390625 19.8125 42.84375 \r\nQ 14.984375 37.3125 14.984375 27.296875 \r\nQ 14.984375 17.28125 19.8125 11.734375 \r\nQ 24.65625 6.203125 33.40625 6.203125 \r\nQ 37.3125 6.203125 41.140625 7.25 \r\nQ 44.96875 8.296875 48.78125 10.40625 \r\nL 48.78125 2.09375 \r\nQ 45.015625 0.34375 40.984375 -0.53125 \r\nQ 36.96875 -1.421875 32.421875 -1.421875 \r\nQ 20.0625 -1.421875 12.78125 6.34375 \r\nQ 5.515625 14.109375 5.515625 27.296875 \r\nQ 5.515625 40.671875 12.859375 48.328125 \r\nQ 20.21875 56 33.015625 56 \r\nQ 37.15625 56 41.109375 55.140625 \r\nQ 45.0625 54.296875 48.78125 52.59375 \r\nz\r\n\" id=\"DejaVuSans-99\"/>\r\n        <path d=\"M 9.421875 54.6875 \r\nL 18.40625 54.6875 \r\nL 18.40625 0 \r\nL 9.421875 0 \r\nz\r\nM 9.421875 75.984375 \r\nL 18.40625 75.984375 \r\nL 18.40625 64.59375 \r\nL 9.421875 64.59375 \r\nz\r\n\" id=\"DejaVuSans-105\"/>\r\n        <path d=\"M 10.6875 12.40625 \r\nL 21 12.40625 \r\nL 21 0 \r\nL 10.6875 0 \r\nz\r\n\" id=\"DejaVuSans-46\"/>\r\n        <path d=\"M 18.109375 8.203125 \r\nL 18.109375 -20.796875 \r\nL 9.078125 -20.796875 \r\nL 9.078125 54.6875 \r\nL 18.109375 54.6875 \r\nL 18.109375 46.390625 \r\nQ 20.953125 51.265625 25.265625 53.625 \r\nQ 29.59375 56 35.59375 56 \r\nQ 45.5625 56 51.78125 48.09375 \r\nQ 58.015625 40.1875 58.015625 27.296875 \r\nQ 58.015625 14.40625 51.78125 6.484375 \r\nQ 45.5625 -1.421875 35.59375 -1.421875 \r\nQ 29.59375 -1.421875 25.265625 0.953125 \r\nQ 20.953125 3.328125 18.109375 8.203125 \r\nz\r\nM 48.6875 27.296875 \r\nQ 48.6875 37.203125 44.609375 42.84375 \r\nQ 40.53125 48.484375 33.40625 48.484375 \r\nQ 26.265625 48.484375 22.1875 42.84375 \r\nQ 18.109375 37.203125 18.109375 27.296875 \r\nQ 18.109375 17.390625 22.1875 11.75 \r\nQ 26.265625 6.109375 33.40625 6.109375 \r\nQ 40.53125 6.109375 44.609375 11.75 \r\nQ 48.6875 17.390625 48.6875 27.296875 \r\nz\r\n\" id=\"DejaVuSans-112\"/>\r\n        <path d=\"M 34.28125 27.484375 \r\nQ 23.390625 27.484375 19.1875 25 \r\nQ 14.984375 22.515625 14.984375 16.5 \r\nQ 14.984375 11.71875 18.140625 8.90625 \r\nQ 21.296875 6.109375 26.703125 6.109375 \r\nQ 34.1875 6.109375 38.703125 11.40625 \r\nQ 43.21875 16.703125 43.21875 25.484375 \r\nL 43.21875 27.484375 \r\nz\r\nM 52.203125 31.203125 \r\nL 52.203125 0 \r\nL 43.21875 0 \r\nL 43.21875 8.296875 \r\nQ 40.140625 3.328125 35.546875 0.953125 \r\nQ 30.953125 -1.421875 24.3125 -1.421875 \r\nQ 15.921875 -1.421875 10.953125 3.296875 \r\nQ 6 8.015625 6 15.921875 \r\nQ 6 25.140625 12.171875 29.828125 \r\nQ 18.359375 34.515625 30.609375 34.515625 \r\nL 43.21875 34.515625 \r\nL 43.21875 35.40625 \r\nQ 43.21875 41.609375 39.140625 45 \r\nQ 35.0625 48.390625 27.6875 48.390625 \r\nQ 23 48.390625 18.546875 47.265625 \r\nQ 14.109375 46.140625 10.015625 43.890625 \r\nL 10.015625 52.203125 \r\nQ 14.9375 54.109375 19.578125 55.046875 \r\nQ 24.21875 56 28.609375 56 \r\nQ 40.484375 56 46.34375 49.84375 \r\nQ 52.203125 43.703125 52.203125 31.203125 \r\nz\r\n\" id=\"DejaVuSans-97\"/>\r\n        <path d=\"M 56.203125 29.59375 \r\nL 56.203125 25.203125 \r\nL 14.890625 25.203125 \r\nQ 15.484375 15.921875 20.484375 11.0625 \r\nQ 25.484375 6.203125 34.421875 6.203125 \r\nQ 39.59375 6.203125 44.453125 7.46875 \r\nQ 49.3125 8.734375 54.109375 11.28125 \r\nL 54.109375 2.78125 \r\nQ 49.265625 0.734375 44.1875 -0.34375 \r\nQ 39.109375 -1.421875 33.890625 -1.421875 \r\nQ 20.796875 -1.421875 13.15625 6.1875 \r\nQ 5.515625 13.8125 5.515625 26.8125 \r\nQ 5.515625 40.234375 12.765625 48.109375 \r\nQ 20.015625 56 32.328125 56 \r\nQ 43.359375 56 49.78125 48.890625 \r\nQ 56.203125 41.796875 56.203125 29.59375 \r\nz\r\nM 47.21875 32.234375 \r\nQ 47.125 39.59375 43.09375 43.984375 \r\nQ 39.0625 48.390625 32.421875 48.390625 \r\nQ 24.90625 48.390625 20.390625 44.140625 \r\nQ 15.875 39.890625 15.1875 32.171875 \r\nz\r\n\" id=\"DejaVuSans-101\"/>\r\n       </defs>\r\n       <use xlink:href=\"#DejaVuSans-115\"/>\r\n       <use x=\"52.099609\" xlink:href=\"#DejaVuSans-99\"/>\r\n       <use x=\"107.080078\" xlink:href=\"#DejaVuSans-105\"/>\r\n       <use x=\"134.863281\" xlink:href=\"#DejaVuSans-46\"/>\r\n       <use x=\"166.650391\" xlink:href=\"#DejaVuSans-115\"/>\r\n       <use x=\"218.75\" xlink:href=\"#DejaVuSans-112\"/>\r\n       <use x=\"282.226562\" xlink:href=\"#DejaVuSans-97\"/>\r\n       <use x=\"343.505859\" xlink:href=\"#DejaVuSans-99\"/>\r\n       <use x=\"398.486328\" xlink:href=\"#DejaVuSans-101\"/>\r\n      </g>\r\n     </g>\r\n    </g>\r\n    <g id=\"ytick_2\">\r\n     <g id=\"line2d_8\">\r\n      <g>\r\n       <use style=\"stroke:#000000;stroke-width:0.8;\" x=\"70.471875\" xlink:href=\"#m0e64b01d99\" y=\"131.518125\"/>\r\n      </g>\r\n     </g>\r\n     <g id=\"text_8\">\r\n      <!-- alt.atheism -->\r\n      <g transform=\"translate(7.2 135.317344)scale(0.1 -0.1)\">\r\n       <defs>\r\n        <path d=\"M 9.421875 75.984375 \r\nL 18.40625 75.984375 \r\nL 18.40625 0 \r\nL 9.421875 0 \r\nz\r\n\" id=\"DejaVuSans-108\"/>\r\n        <path d=\"M 18.3125 70.21875 \r\nL 18.3125 54.6875 \r\nL 36.8125 54.6875 \r\nL 36.8125 47.703125 \r\nL 18.3125 47.703125 \r\nL 18.3125 18.015625 \r\nQ 18.3125 11.328125 20.140625 9.421875 \r\nQ 21.96875 7.515625 27.59375 7.515625 \r\nL 36.8125 7.515625 \r\nL 36.8125 0 \r\nL 27.59375 0 \r\nQ 17.1875 0 13.234375 3.875 \r\nQ 9.28125 7.765625 9.28125 18.015625 \r\nL 9.28125 47.703125 \r\nL 2.6875 47.703125 \r\nL 2.6875 54.6875 \r\nL 9.28125 54.6875 \r\nL 9.28125 70.21875 \r\nz\r\n\" id=\"DejaVuSans-116\"/>\r\n        <path d=\"M 54.890625 33.015625 \r\nL 54.890625 0 \r\nL 45.90625 0 \r\nL 45.90625 32.71875 \r\nQ 45.90625 40.484375 42.875 44.328125 \r\nQ 39.84375 48.1875 33.796875 48.1875 \r\nQ 26.515625 48.1875 22.3125 43.546875 \r\nQ 18.109375 38.921875 18.109375 30.90625 \r\nL 18.109375 0 \r\nL 9.078125 0 \r\nL 9.078125 75.984375 \r\nL 18.109375 75.984375 \r\nL 18.109375 46.1875 \r\nQ 21.34375 51.125 25.703125 53.5625 \r\nQ 30.078125 56 35.796875 56 \r\nQ 45.21875 56 50.046875 50.171875 \r\nQ 54.890625 44.34375 54.890625 33.015625 \r\nz\r\n\" id=\"DejaVuSans-104\"/>\r\n        <path d=\"M 52 44.1875 \r\nQ 55.375 50.25 60.0625 53.125 \r\nQ 64.75 56 71.09375 56 \r\nQ 79.640625 56 84.28125 50.015625 \r\nQ 88.921875 44.046875 88.921875 33.015625 \r\nL 88.921875 0 \r\nL 79.890625 0 \r\nL 79.890625 32.71875 \r\nQ 79.890625 40.578125 77.09375 44.375 \r\nQ 74.3125 48.1875 68.609375 48.1875 \r\nQ 61.625 48.1875 57.5625 43.546875 \r\nQ 53.515625 38.921875 53.515625 30.90625 \r\nL 53.515625 0 \r\nL 44.484375 0 \r\nL 44.484375 32.71875 \r\nQ 44.484375 40.625 41.703125 44.40625 \r\nQ 38.921875 48.1875 33.109375 48.1875 \r\nQ 26.21875 48.1875 22.15625 43.53125 \r\nQ 18.109375 38.875 18.109375 30.90625 \r\nL 18.109375 0 \r\nL 9.078125 0 \r\nL 9.078125 54.6875 \r\nL 18.109375 54.6875 \r\nL 18.109375 46.1875 \r\nQ 21.1875 51.21875 25.484375 53.609375 \r\nQ 29.78125 56 35.6875 56 \r\nQ 41.65625 56 45.828125 52.96875 \r\nQ 50 49.953125 52 44.1875 \r\nz\r\n\" id=\"DejaVuSans-109\"/>\r\n       </defs>\r\n       <use xlink:href=\"#DejaVuSans-97\"/>\r\n       <use x=\"61.279297\" xlink:href=\"#DejaVuSans-108\"/>\r\n       <use x=\"89.0625\" xlink:href=\"#DejaVuSans-116\"/>\r\n       <use x=\"128.271484\" xlink:href=\"#DejaVuSans-46\"/>\r\n       <use x=\"160.058594\" xlink:href=\"#DejaVuSans-97\"/>\r\n       <use x=\"221.337891\" xlink:href=\"#DejaVuSans-116\"/>\r\n       <use x=\"260.546875\" xlink:href=\"#DejaVuSans-104\"/>\r\n       <use x=\"323.925781\" xlink:href=\"#DejaVuSans-101\"/>\r\n       <use x=\"385.449219\" xlink:href=\"#DejaVuSans-105\"/>\r\n       <use x=\"413.232422\" xlink:href=\"#DejaVuSans-115\"/>\r\n       <use x=\"465.332031\" xlink:href=\"#DejaVuSans-109\"/>\r\n      </g>\r\n     </g>\r\n    </g>\r\n   </g>\r\n   <g id=\"patch_7\">\r\n    <path d=\"M 70.471875 457.678125 \r\nL 70.471875 22.798125 \r\n\" style=\"fill:none;stroke:#000000;stroke-linecap:square;stroke-linejoin:miter;stroke-width:0.8;\"/>\r\n   </g>\r\n   <g id=\"patch_8\">\r\n    <path d=\"M 628.471875 457.678125 \r\nL 628.471875 22.798125 \r\n\" style=\"fill:none;stroke:#000000;stroke-linecap:square;stroke-linejoin:miter;stroke-width:0.8;\"/>\r\n   </g>\r\n   <g id=\"patch_9\">\r\n    <path d=\"M 70.471875 457.678125 \r\nL 628.471875 457.678125 \r\n\" style=\"fill:none;stroke:#000000;stroke-linecap:square;stroke-linejoin:miter;stroke-width:0.8;\"/>\r\n   </g>\r\n   <g id=\"patch_10\">\r\n    <path d=\"M 70.471875 22.798125 \r\nL 628.471875 22.798125 \r\n\" style=\"fill:none;stroke:#000000;stroke-linecap:square;stroke-linejoin:miter;stroke-width:0.8;\"/>\r\n   </g>\r\n   <g id=\"text_9\">\r\n    <!-- Número de documentos de treinamento e teste por classe -->\r\n    <g transform=\"translate(173.9925 16.798125)scale(0.12 -0.12)\">\r\n     <defs>\r\n      <path d=\"M 9.8125 72.90625 \r\nL 23.09375 72.90625 \r\nL 55.421875 11.921875 \r\nL 55.421875 72.90625 \r\nL 64.984375 72.90625 \r\nL 64.984375 0 \r\nL 51.703125 0 \r\nL 19.390625 60.984375 \r\nL 19.390625 0 \r\nL 9.8125 0 \r\nz\r\n\" id=\"DejaVuSans-78\"/>\r\n      <path d=\"M 8.5 21.578125 \r\nL 8.5 54.6875 \r\nL 17.484375 54.6875 \r\nL 17.484375 21.921875 \r\nQ 17.484375 14.15625 20.5 10.265625 \r\nQ 23.53125 6.390625 29.59375 6.390625 \r\nQ 36.859375 6.390625 41.078125 11.03125 \r\nQ 45.3125 15.671875 45.3125 23.6875 \r\nL 45.3125 54.6875 \r\nL 54.296875 54.6875 \r\nL 54.296875 0 \r\nL 45.3125 0 \r\nL 45.3125 8.40625 \r\nQ 42.046875 3.421875 37.71875 1 \r\nQ 33.40625 -1.421875 27.6875 -1.421875 \r\nQ 18.265625 -1.421875 13.375 4.4375 \r\nQ 8.5 10.296875 8.5 21.578125 \r\nz\r\nM 31.109375 56 \r\nz\r\nM 37.796875 79.984375 \r\nL 47.515625 79.984375 \r\nL 31.59375 61.625 \r\nL 24.125 61.625 \r\nz\r\n\" id=\"DejaVuSans-250\"/>\r\n      <path d=\"M 41.109375 46.296875 \r\nQ 39.59375 47.171875 37.8125 47.578125 \r\nQ 36.03125 48 33.890625 48 \r\nQ 26.265625 48 22.1875 43.046875 \r\nQ 18.109375 38.09375 18.109375 28.8125 \r\nL 18.109375 0 \r\nL 9.078125 0 \r\nL 9.078125 54.6875 \r\nL 18.109375 54.6875 \r\nL 18.109375 46.1875 \r\nQ 20.953125 51.171875 25.484375 53.578125 \r\nQ 30.03125 56 36.53125 56 \r\nQ 37.453125 56 38.578125 55.875 \r\nQ 39.703125 55.765625 41.0625 55.515625 \r\nz\r\n\" id=\"DejaVuSans-114\"/>\r\n      <path d=\"M 30.609375 48.390625 \r\nQ 23.390625 48.390625 19.1875 42.75 \r\nQ 14.984375 37.109375 14.984375 27.296875 \r\nQ 14.984375 17.484375 19.15625 11.84375 \r\nQ 23.34375 6.203125 30.609375 6.203125 \r\nQ 37.796875 6.203125 41.984375 11.859375 \r\nQ 46.1875 17.53125 46.1875 27.296875 \r\nQ 46.1875 37.015625 41.984375 42.703125 \r\nQ 37.796875 48.390625 30.609375 48.390625 \r\nz\r\nM 30.609375 56 \r\nQ 42.328125 56 49.015625 48.375 \r\nQ 55.71875 40.765625 55.71875 27.296875 \r\nQ 55.71875 13.875 49.015625 6.21875 \r\nQ 42.328125 -1.421875 30.609375 -1.421875 \r\nQ 18.84375 -1.421875 12.171875 6.21875 \r\nQ 5.515625 13.875 5.515625 27.296875 \r\nQ 5.515625 40.765625 12.171875 48.375 \r\nQ 18.84375 56 30.609375 56 \r\nz\r\n\" id=\"DejaVuSans-111\"/>\r\n      <path id=\"DejaVuSans-32\"/>\r\n      <path d=\"M 45.40625 46.390625 \r\nL 45.40625 75.984375 \r\nL 54.390625 75.984375 \r\nL 54.390625 0 \r\nL 45.40625 0 \r\nL 45.40625 8.203125 \r\nQ 42.578125 3.328125 38.25 0.953125 \r\nQ 33.9375 -1.421875 27.875 -1.421875 \r\nQ 17.96875 -1.421875 11.734375 6.484375 \r\nQ 5.515625 14.40625 5.515625 27.296875 \r\nQ 5.515625 40.1875 11.734375 48.09375 \r\nQ 17.96875 56 27.875 56 \r\nQ 33.9375 56 38.25 53.625 \r\nQ 42.578125 51.265625 45.40625 46.390625 \r\nz\r\nM 14.796875 27.296875 \r\nQ 14.796875 17.390625 18.875 11.75 \r\nQ 22.953125 6.109375 30.078125 6.109375 \r\nQ 37.203125 6.109375 41.296875 11.75 \r\nQ 45.40625 17.390625 45.40625 27.296875 \r\nQ 45.40625 37.203125 41.296875 42.84375 \r\nQ 37.203125 48.484375 30.078125 48.484375 \r\nQ 22.953125 48.484375 18.875 42.84375 \r\nQ 14.796875 37.203125 14.796875 27.296875 \r\nz\r\n\" id=\"DejaVuSans-100\"/>\r\n      <path d=\"M 8.5 21.578125 \r\nL 8.5 54.6875 \r\nL 17.484375 54.6875 \r\nL 17.484375 21.921875 \r\nQ 17.484375 14.15625 20.5 10.265625 \r\nQ 23.53125 6.390625 29.59375 6.390625 \r\nQ 36.859375 6.390625 41.078125 11.03125 \r\nQ 45.3125 15.671875 45.3125 23.6875 \r\nL 45.3125 54.6875 \r\nL 54.296875 54.6875 \r\nL 54.296875 0 \r\nL 45.3125 0 \r\nL 45.3125 8.40625 \r\nQ 42.046875 3.421875 37.71875 1 \r\nQ 33.40625 -1.421875 27.6875 -1.421875 \r\nQ 18.265625 -1.421875 13.375 4.4375 \r\nQ 8.5 10.296875 8.5 21.578125 \r\nz\r\nM 31.109375 56 \r\nz\r\n\" id=\"DejaVuSans-117\"/>\r\n      <path d=\"M 54.890625 33.015625 \r\nL 54.890625 0 \r\nL 45.90625 0 \r\nL 45.90625 32.71875 \r\nQ 45.90625 40.484375 42.875 44.328125 \r\nQ 39.84375 48.1875 33.796875 48.1875 \r\nQ 26.515625 48.1875 22.3125 43.546875 \r\nQ 18.109375 38.921875 18.109375 30.90625 \r\nL 18.109375 0 \r\nL 9.078125 0 \r\nL 9.078125 54.6875 \r\nL 18.109375 54.6875 \r\nL 18.109375 46.1875 \r\nQ 21.34375 51.125 25.703125 53.5625 \r\nQ 30.078125 56 35.796875 56 \r\nQ 45.21875 56 50.046875 50.171875 \r\nQ 54.890625 44.34375 54.890625 33.015625 \r\nz\r\n\" id=\"DejaVuSans-110\"/>\r\n     </defs>\r\n     <use xlink:href=\"#DejaVuSans-78\"/>\r\n     <use x=\"74.804688\" xlink:href=\"#DejaVuSans-250\"/>\r\n     <use x=\"138.183594\" xlink:href=\"#DejaVuSans-109\"/>\r\n     <use x=\"235.595703\" xlink:href=\"#DejaVuSans-101\"/>\r\n     <use x=\"297.119141\" xlink:href=\"#DejaVuSans-114\"/>\r\n     <use x=\"335.982422\" xlink:href=\"#DejaVuSans-111\"/>\r\n     <use x=\"397.164062\" xlink:href=\"#DejaVuSans-32\"/>\r\n     <use x=\"428.951172\" xlink:href=\"#DejaVuSans-100\"/>\r\n     <use x=\"492.427734\" xlink:href=\"#DejaVuSans-101\"/>\r\n     <use x=\"553.951172\" xlink:href=\"#DejaVuSans-32\"/>\r\n     <use x=\"585.738281\" xlink:href=\"#DejaVuSans-100\"/>\r\n     <use x=\"649.214844\" xlink:href=\"#DejaVuSans-111\"/>\r\n     <use x=\"710.396484\" xlink:href=\"#DejaVuSans-99\"/>\r\n     <use x=\"765.376953\" xlink:href=\"#DejaVuSans-117\"/>\r\n     <use x=\"828.755859\" xlink:href=\"#DejaVuSans-109\"/>\r\n     <use x=\"926.167969\" xlink:href=\"#DejaVuSans-101\"/>\r\n     <use x=\"987.691406\" xlink:href=\"#DejaVuSans-110\"/>\r\n     <use x=\"1051.070312\" xlink:href=\"#DejaVuSans-116\"/>\r\n     <use x=\"1090.279297\" xlink:href=\"#DejaVuSans-111\"/>\r\n     <use x=\"1151.460938\" xlink:href=\"#DejaVuSans-115\"/>\r\n     <use x=\"1203.560547\" xlink:href=\"#DejaVuSans-32\"/>\r\n     <use x=\"1235.347656\" xlink:href=\"#DejaVuSans-100\"/>\r\n     <use x=\"1298.824219\" xlink:href=\"#DejaVuSans-101\"/>\r\n     <use x=\"1360.347656\" xlink:href=\"#DejaVuSans-32\"/>\r\n     <use x=\"1392.134766\" xlink:href=\"#DejaVuSans-116\"/>\r\n     <use x=\"1431.34375\" xlink:href=\"#DejaVuSans-114\"/>\r\n     <use x=\"1470.207031\" xlink:href=\"#DejaVuSans-101\"/>\r\n     <use x=\"1531.730469\" xlink:href=\"#DejaVuSans-105\"/>\r\n     <use x=\"1559.513672\" xlink:href=\"#DejaVuSans-110\"/>\r\n     <use x=\"1622.892578\" xlink:href=\"#DejaVuSans-97\"/>\r\n     <use x=\"1684.171875\" xlink:href=\"#DejaVuSans-109\"/>\r\n     <use x=\"1781.583984\" xlink:href=\"#DejaVuSans-101\"/>\r\n     <use x=\"1843.107422\" xlink:href=\"#DejaVuSans-110\"/>\r\n     <use x=\"1906.486328\" xlink:href=\"#DejaVuSans-116\"/>\r\n     <use x=\"1945.695312\" xlink:href=\"#DejaVuSans-111\"/>\r\n     <use x=\"2006.876953\" xlink:href=\"#DejaVuSans-32\"/>\r\n     <use x=\"2038.664062\" xlink:href=\"#DejaVuSans-101\"/>\r\n     <use x=\"2100.1875\" xlink:href=\"#DejaVuSans-32\"/>\r\n     <use x=\"2131.974609\" xlink:href=\"#DejaVuSans-116\"/>\r\n     <use x=\"2171.183594\" xlink:href=\"#DejaVuSans-101\"/>\r\n     <use x=\"2232.707031\" xlink:href=\"#DejaVuSans-115\"/>\r\n     <use x=\"2284.806641\" xlink:href=\"#DejaVuSans-116\"/>\r\n     <use x=\"2324.015625\" xlink:href=\"#DejaVuSans-101\"/>\r\n     <use x=\"2385.539062\" xlink:href=\"#DejaVuSans-32\"/>\r\n     <use x=\"2417.326172\" xlink:href=\"#DejaVuSans-112\"/>\r\n     <use x=\"2480.802734\" xlink:href=\"#DejaVuSans-111\"/>\r\n     <use x=\"2541.984375\" xlink:href=\"#DejaVuSans-114\"/>\r\n     <use x=\"2583.097656\" xlink:href=\"#DejaVuSans-32\"/>\r\n     <use x=\"2614.884766\" xlink:href=\"#DejaVuSans-99\"/>\r\n     <use x=\"2669.865234\" xlink:href=\"#DejaVuSans-108\"/>\r\n     <use x=\"2697.648438\" xlink:href=\"#DejaVuSans-97\"/>\r\n     <use x=\"2758.927734\" xlink:href=\"#DejaVuSans-115\"/>\r\n     <use x=\"2811.027344\" xlink:href=\"#DejaVuSans-115\"/>\r\n     <use x=\"2863.126953\" xlink:href=\"#DejaVuSans-101\"/>\r\n    </g>\r\n   </g>\r\n   <g id=\"legend_1\">\r\n    <g id=\"patch_11\">\r\n     <path d=\"M 522.367188 60.154375 \r\nL 621.471875 60.154375 \r\nQ 623.471875 60.154375 623.471875 58.154375 \r\nL 623.471875 29.798125 \r\nQ 623.471875 27.798125 621.471875 27.798125 \r\nL 522.367188 27.798125 \r\nQ 520.367188 27.798125 520.367188 29.798125 \r\nL 520.367188 58.154375 \r\nQ 520.367188 60.154375 522.367188 60.154375 \r\nz\r\n\" style=\"fill:#ffffff;opacity:0.8;stroke:#cccccc;stroke-linejoin:miter;\"/>\r\n    </g>\r\n    <g id=\"patch_12\">\r\n     <path d=\"M 524.367188 39.396562 \r\nL 544.367188 39.396562 \r\nL 544.367188 32.396562 \r\nL 524.367188 32.396562 \r\nz\r\n\" style=\"fill:#1f77b4;\"/>\r\n    </g>\r\n    <g id=\"text_10\">\r\n     <!-- # docs treino -->\r\n     <g transform=\"translate(552.367188 39.396562)scale(0.1 -0.1)\">\r\n      <defs>\r\n       <path d=\"M 51.125 44 \r\nL 36.921875 44 \r\nL 32.8125 27.6875 \r\nL 47.125 27.6875 \r\nz\r\nM 43.796875 71.78125 \r\nL 38.71875 51.515625 \r\nL 52.984375 51.515625 \r\nL 58.109375 71.78125 \r\nL 65.921875 71.78125 \r\nL 60.890625 51.515625 \r\nL 76.125 51.515625 \r\nL 76.125 44 \r\nL 58.984375 44 \r\nL 54.984375 27.6875 \r\nL 70.515625 27.6875 \r\nL 70.515625 20.21875 \r\nL 53.078125 20.21875 \r\nL 48 0 \r\nL 40.1875 0 \r\nL 45.21875 20.21875 \r\nL 30.90625 20.21875 \r\nL 25.875 0 \r\nL 18.015625 0 \r\nL 23.09375 20.21875 \r\nL 7.71875 20.21875 \r\nL 7.71875 27.6875 \r\nL 24.90625 27.6875 \r\nL 29 44 \r\nL 13.28125 44 \r\nL 13.28125 51.515625 \r\nL 30.90625 51.515625 \r\nL 35.890625 71.78125 \r\nz\r\n\" id=\"DejaVuSans-35\"/>\r\n      </defs>\r\n      <use xlink:href=\"#DejaVuSans-35\"/>\r\n      <use x=\"83.789062\" xlink:href=\"#DejaVuSans-32\"/>\r\n      <use x=\"115.576172\" xlink:href=\"#DejaVuSans-100\"/>\r\n      <use x=\"179.052734\" xlink:href=\"#DejaVuSans-111\"/>\r\n      <use x=\"240.234375\" xlink:href=\"#DejaVuSans-99\"/>\r\n      <use x=\"295.214844\" xlink:href=\"#DejaVuSans-115\"/>\r\n      <use x=\"347.314453\" xlink:href=\"#DejaVuSans-32\"/>\r\n      <use x=\"379.101562\" xlink:href=\"#DejaVuSans-116\"/>\r\n      <use x=\"418.310547\" xlink:href=\"#DejaVuSans-114\"/>\r\n      <use x=\"457.173828\" xlink:href=\"#DejaVuSans-101\"/>\r\n      <use x=\"518.697266\" xlink:href=\"#DejaVuSans-105\"/>\r\n      <use x=\"546.480469\" xlink:href=\"#DejaVuSans-110\"/>\r\n      <use x=\"609.859375\" xlink:href=\"#DejaVuSans-111\"/>\r\n     </g>\r\n    </g>\r\n    <g id=\"patch_13\">\r\n     <path d=\"M 524.367188 54.074687 \r\nL 544.367188 54.074687 \r\nL 544.367188 47.074687 \r\nL 524.367188 47.074687 \r\nz\r\n\" style=\"fill:#ff7f0e;\"/>\r\n    </g>\r\n    <g id=\"text_11\">\r\n     <!-- # docs teste -->\r\n     <g transform=\"translate(552.367188 54.074687)scale(0.1 -0.1)\">\r\n      <use xlink:href=\"#DejaVuSans-35\"/>\r\n      <use x=\"83.789062\" xlink:href=\"#DejaVuSans-32\"/>\r\n      <use x=\"115.576172\" xlink:href=\"#DejaVuSans-100\"/>\r\n      <use x=\"179.052734\" xlink:href=\"#DejaVuSans-111\"/>\r\n      <use x=\"240.234375\" xlink:href=\"#DejaVuSans-99\"/>\r\n      <use x=\"295.214844\" xlink:href=\"#DejaVuSans-115\"/>\r\n      <use x=\"347.314453\" xlink:href=\"#DejaVuSans-32\"/>\r\n      <use x=\"379.101562\" xlink:href=\"#DejaVuSans-116\"/>\r\n      <use x=\"418.310547\" xlink:href=\"#DejaVuSans-101\"/>\r\n      <use x=\"479.833984\" xlink:href=\"#DejaVuSans-115\"/>\r\n      <use x=\"531.933594\" xlink:href=\"#DejaVuSans-116\"/>\r\n      <use x=\"571.142578\" xlink:href=\"#DejaVuSans-101\"/>\r\n     </g>\r\n    </g>\r\n   </g>\r\n  </g>\r\n </g>\r\n <defs>\r\n  <clipPath id=\"p9ec9bbb1bd\">\r\n   <rect height=\"434.88\" width=\"558\" x=\"70.471875\" y=\"22.798125\"/>\r\n  </clipPath>\r\n </defs>\r\n</svg>\r\n",
      "image/png": "[encoded data removed]"
     },
     "metadata": {
      "needs_background": "light"
     }
    }
   ],
   "source": [
    "# Exibição no formato de gráfico\n",
    "%matplotlib inline\n",
    "\n",
    "newsgroups_df_labels.iloc[:-1,:-1].plot.barh(stacked=True, \n",
    "                                    figsize=(10, 8),\n",
    "                                    title=\"Número de documentos de treinamento e teste por classe\");"
   ]
  },
  {
   "cell_type": "code",
   "execution_count": 6,
   "metadata": {},
   "outputs": [],
   "source": [
    "# Carregamento das bibliotecas comuns do sklearn\n",
    "\n",
    "from sklearn.pipeline import Pipeline\n",
    "from sklearn.feature_extraction.text import CountVectorizer\n",
    "from sklearn.feature_extraction.text import TfidfTransformer\n",
    "from sklearn import metrics"
   ]
  },
  {
   "cell_type": "code",
   "execution_count": 16,
   "metadata": {},
   "outputs": [],
   "source": [
    "# Classe de Pre-Processamento de textos utilizando a biblioteca NLTK\n",
    "\n",
    "import string\n",
    "import re\n",
    "import nltk\n",
    "\n",
    "class NLTKTokenizer():\n",
    "    \"\"\"Classe que recebe documentos como entrada e devolve realizado lematização\n",
    "    e retirando stopwords e pontuacoes.\n",
    "    Ref.: https://scikit-learn.org/stable/modules/feature_extraction.html\n",
    "    \"\"\"    \n",
    "    def __init__(self):\n",
    "        self.lemmatizer = nltk.stem.WordNetLemmatizer()\n",
    "        self.stopwords = nltk.corpus.stopwords.words('english')\n",
    "        self.english_words = set(nltk.corpus.words.words())\n",
    "        self.pontuacao = string.punctuation\n",
    "\n",
    "    def __call__(self, doc):\n",
    "        # ETAPA 1 - Limpeza de texto\n",
    "        # Converte para minúsculo\n",
    "        doc = doc.lower()       \n",
    "        \n",
    "        # Trocar numeros pela string numero\n",
    "        doc = re.sub(r'[0-9]+', 'numero', doc)\n",
    "        \n",
    "        # Trocar underlines por underline\n",
    "        doc = re.sub(r'[_]+', 'underline', doc)\n",
    "\n",
    "        # Trocar URL pela string httpaddr\n",
    "        doc = re.sub(r'(http|https)://[^\\s]*', 'httpaddr', doc)\n",
    "        \n",
    "        # Trocar Emails pela string emailaddr\n",
    "        doc = re.sub(r'[^\\s]+@[^\\s]+', 'emailaddr', doc) \n",
    "        \n",
    "        # Remover caracteres especiais\n",
    "        doc = re.sub(r'\\\\r\\\\n', ' ', doc)\n",
    "        doc = re.sub(r'\\W', ' ', doc)\n",
    "\n",
    "        # Remove caracteres simples de uma letra\n",
    "        doc = re.sub(r'\\s+[a-zA-Z]\\s+', ' ', doc)\n",
    "        doc = re.sub(r'\\^[a-zA-Z]\\s+', ' ', doc) \n",
    "\n",
    "        # Substitui multiplos espaços por um unico espaço\n",
    "        doc = re.sub(r'\\s+', ' ', doc, flags=re.I)\n",
    "        \n",
    "        # ETAPA 2 - Tratamento da cada palavra\n",
    "        palavras = []\n",
    "        for word in nltk.word_tokenize(doc):\n",
    "            if word in self.stopwords:\n",
    "                continue\n",
    "            if word in self.pontuacao:\n",
    "                continue\n",
    "            if word not in self.english_words:\n",
    "                continue\n",
    "            \n",
    "            word = self.lemmatizer.lemmatize(word)\n",
    "            palavras.append(word)\n",
    "        \n",
    "        return palavras"
   ]
  },
  {
   "cell_type": "code",
   "execution_count": 8,
   "metadata": {},
   "outputs": [
    {
     "output_type": "execute_result",
     "data": {
      "text/plain": [
       "      00  000  0000  00000  000000  000062david42  00041032  0004136  0004246  \\\n",
       "0      0    0     0      0       0              0         0        0        0   \n",
       "1      0    0     0      0       0              0         0        0        0   \n",
       "2      0    0     0      0       0              0         0        0        0   \n",
       "3      0    0     0      0       0              0         0        0        0   \n",
       "4      0    0     0      0       0              0         0        0        0   \n",
       "...   ..  ...   ...    ...     ...            ...       ...      ...      ...   \n",
       "1068   0    0     0      0       0              0         0        0        0   \n",
       "1069   0    0     0      0       0              0         0        0        0   \n",
       "1070   0    0     0      0       0              0         0        0        0   \n",
       "1071   0    2     0      0       0              0         0        0        0   \n",
       "1072   0    0     0      0       0              0         0        0        0   \n",
       "\n",
       "      0004422  ...  zullen  zulu  zur  zurbrin  zus  zwaartepunten  zwak  \\\n",
       "0           0  ...       0     0    0        0    0              0     0   \n",
       "1           0  ...       0     0    0        0    0              0     0   \n",
       "2           0  ...       0     0    0        0    0              0     0   \n",
       "3           0  ...       0     0    0        0    0              0     0   \n",
       "4           0  ...       0     0    0        0    0              0     0   \n",
       "...       ...  ...     ...   ...  ...      ...  ...            ...   ...   \n",
       "1068        0  ...       0     0    0        0    0              0     0   \n",
       "1069        0  ...       0     0    0        0    0              0     0   \n",
       "1070        0  ...       0     0    0        0    0              0     0   \n",
       "1071        0  ...       0     0    0        0    0              0     0   \n",
       "1072        0  ...       0     0    0        0    0              0     0   \n",
       "\n",
       "      zwakke  zware  zwarte  \n",
       "0          0      0       0  \n",
       "1          0      0       0  \n",
       "2          0      0       0  \n",
       "3          0      0       0  \n",
       "4          0      0       0  \n",
       "...      ...    ...     ...  \n",
       "1068       0      0       0  \n",
       "1069       0      0       0  \n",
       "1070       0      0       0  \n",
       "1071       0      0       0  \n",
       "1072       0      0       0  \n",
       "\n",
       "[1073 rows x 18217 columns]"
      ],
      "text/html": "<div>\n<style scoped>\n    .dataframe tbody tr th:only-of-type {\n        vertical-align: middle;\n    }\n\n    .dataframe tbody tr th {\n        vertical-align: top;\n    }\n\n    .dataframe thead th {\n        text-align: right;\n    }\n</style>\n<table border=\"1\" class=\"dataframe\">\n  <thead>\n    <tr style=\"text-align: right;\">\n      <th></th>\n      <th>00</th>\n      <th>000</th>\n      <th>0000</th>\n      <th>00000</th>\n      <th>000000</th>\n      <th>000062david42</th>\n      <th>00041032</th>\n      <th>0004136</th>\n      <th>0004246</th>\n      <th>0004422</th>\n      <th>...</th>\n      <th>zullen</th>\n      <th>zulu</th>\n      <th>zur</th>\n      <th>zurbrin</th>\n      <th>zus</th>\n      <th>zwaartepunten</th>\n      <th>zwak</th>\n      <th>zwakke</th>\n      <th>zware</th>\n      <th>zwarte</th>\n    </tr>\n  </thead>\n  <tbody>\n    <tr>\n      <th>0</th>\n      <td>0</td>\n      <td>0</td>\n      <td>0</td>\n      <td>0</td>\n      <td>0</td>\n      <td>0</td>\n      <td>0</td>\n      <td>0</td>\n      <td>0</td>\n      <td>0</td>\n      <td>...</td>\n      <td>0</td>\n      <td>0</td>\n      <td>0</td>\n      <td>0</td>\n      <td>0</td>\n      <td>0</td>\n      <td>0</td>\n      <td>0</td>\n      <td>0</td>\n      <td>0</td>\n    </tr>\n    <tr>\n      <th>1</th>\n      <td>0</td>\n      <td>0</td>\n      <td>0</td>\n      <td>0</td>\n      <td>0</td>\n      <td>0</td>\n      <td>0</td>\n      <td>0</td>\n      <td>0</td>\n      <td>0</td>\n      <td>...</td>\n      <td>0</td>\n      <td>0</td>\n      <td>0</td>\n      <td>0</td>\n      <td>0</td>\n      <td>0</td>\n      <td>0</td>\n      <td>0</td>\n      <td>0</td>\n      <td>0</td>\n    </tr>\n    <tr>\n      <th>2</th>\n      <td>0</td>\n      <td>0</td>\n      <td>0</td>\n      <td>0</td>\n      <td>0</td>\n      <td>0</td>\n      <td>0</td>\n      <td>0</td>\n      <td>0</td>\n      <td>0</td>\n      <td>...</td>\n      <td>0</td>\n      <td>0</td>\n      <td>0</td>\n      <td>0</td>\n      <td>0</td>\n      <td>0</td>\n      <td>0</td>\n      <td>0</td>\n      <td>0</td>\n      <td>0</td>\n    </tr>\n    <tr>\n      <th>3</th>\n      <td>0</td>\n      <td>0</td>\n      <td>0</td>\n      <td>0</td>\n      <td>0</td>\n      <td>0</td>\n      <td>0</td>\n      <td>0</td>\n      <td>0</td>\n      <td>0</td>\n      <td>...</td>\n      <td>0</td>\n      <td>0</td>\n      <td>0</td>\n      <td>0</td>\n      <td>0</td>\n      <td>0</td>\n      <td>0</td>\n      <td>0</td>\n      <td>0</td>\n      <td>0</td>\n    </tr>\n    <tr>\n      <th>4</th>\n      <td>0</td>\n      <td>0</td>\n      <td>0</td>\n      <td>0</td>\n      <td>0</td>\n      <td>0</td>\n      <td>0</td>\n      <td>0</td>\n      <td>0</td>\n      <td>0</td>\n      <td>...</td>\n      <td>0</td>\n      <td>0</td>\n      <td>0</td>\n      <td>0</td>\n      <td>0</td>\n      <td>0</td>\n      <td>0</td>\n      <td>0</td>\n      <td>0</td>\n      <td>0</td>\n    </tr>\n    <tr>\n      <th>...</th>\n      <td>...</td>\n      <td>...</td>\n      <td>...</td>\n      <td>...</td>\n      <td>...</td>\n      <td>...</td>\n      <td>...</td>\n      <td>...</td>\n      <td>...</td>\n      <td>...</td>\n      <td>...</td>\n      <td>...</td>\n      <td>...</td>\n      <td>...</td>\n      <td>...</td>\n      <td>...</td>\n      <td>...</td>\n      <td>...</td>\n      <td>...</td>\n      <td>...</td>\n      <td>...</td>\n    </tr>\n    <tr>\n      <th>1068</th>\n      <td>0</td>\n      <td>0</td>\n      <td>0</td>\n      <td>0</td>\n      <td>0</td>\n      <td>0</td>\n      <td>0</td>\n      <td>0</td>\n      <td>0</td>\n      <td>0</td>\n      <td>...</td>\n      <td>0</td>\n      <td>0</td>\n      <td>0</td>\n      <td>0</td>\n      <td>0</td>\n      <td>0</td>\n      <td>0</td>\n      <td>0</td>\n      <td>0</td>\n      <td>0</td>\n    </tr>\n    <tr>\n      <th>1069</th>\n      <td>0</td>\n      <td>0</td>\n      <td>0</td>\n      <td>0</td>\n      <td>0</td>\n      <td>0</td>\n      <td>0</td>\n      <td>0</td>\n      <td>0</td>\n      <td>0</td>\n      <td>...</td>\n      <td>0</td>\n      <td>0</td>\n      <td>0</td>\n      <td>0</td>\n      <td>0</td>\n      <td>0</td>\n      <td>0</td>\n      <td>0</td>\n      <td>0</td>\n      <td>0</td>\n    </tr>\n    <tr>\n      <th>1070</th>\n      <td>0</td>\n      <td>0</td>\n      <td>0</td>\n      <td>0</td>\n      <td>0</td>\n      <td>0</td>\n      <td>0</td>\n      <td>0</td>\n      <td>0</td>\n      <td>0</td>\n      <td>...</td>\n      <td>0</td>\n      <td>0</td>\n      <td>0</td>\n      <td>0</td>\n      <td>0</td>\n      <td>0</td>\n      <td>0</td>\n      <td>0</td>\n      <td>0</td>\n      <td>0</td>\n    </tr>\n    <tr>\n      <th>1071</th>\n      <td>0</td>\n      <td>2</td>\n      <td>0</td>\n      <td>0</td>\n      <td>0</td>\n      <td>0</td>\n      <td>0</td>\n      <td>0</td>\n      <td>0</td>\n      <td>0</td>\n      <td>...</td>\n      <td>0</td>\n      <td>0</td>\n      <td>0</td>\n      <td>0</td>\n      <td>0</td>\n      <td>0</td>\n      <td>0</td>\n      <td>0</td>\n      <td>0</td>\n      <td>0</td>\n    </tr>\n    <tr>\n      <th>1072</th>\n      <td>0</td>\n      <td>0</td>\n      <td>0</td>\n      <td>0</td>\n      <td>0</td>\n      <td>0</td>\n      <td>0</td>\n      <td>0</td>\n      <td>0</td>\n      <td>0</td>\n      <td>...</td>\n      <td>0</td>\n      <td>0</td>\n      <td>0</td>\n      <td>0</td>\n      <td>0</td>\n      <td>0</td>\n      <td>0</td>\n      <td>0</td>\n      <td>0</td>\n      <td>0</td>\n    </tr>\n  </tbody>\n</table>\n<p>1073 rows × 18217 columns</p>\n</div>"
     },
     "metadata": {},
     "execution_count": 8
    }
   ],
   "source": [
    "# Vetores de características sem tratamento com NLTK e Expressões Regulares\n",
    "\n",
    "vetorizador = CountVectorizer()\n",
    "v1 = vetorizador.fit_transform(X_train)\n",
    "\n",
    "features = vetorizador.get_feature_names()\n",
    "v1_df = pd.DataFrame(v1.toarray(), columns = features)\n",
    "v1_df"
   ]
  },
  {
   "cell_type": "code",
   "execution_count": 17,
   "metadata": {},
   "outputs": [
    {
     "output_type": "execute_result",
     "data": {
      "text/plain": [
       "       aa  aam  aba  abandon  abandoned  abatement  abbey  abbot  \\\n",
       "0       0    0    0        0          0          0      0      0   \n",
       "1       0    0    0        0          0          0      0      0   \n",
       "2       0    0    0        0          0          0      0      0   \n",
       "3       0    0    0        0          0          0      0      0   \n",
       "4       0    0    0        0          0          0      0      0   \n",
       "...    ..  ...  ...      ...        ...        ...    ...    ...   \n",
       "11309   0    0    0        0          0          0      0      0   \n",
       "11310   0    0    0        0          0          0      0      0   \n",
       "11311   0    0    0        0          0          0      0      0   \n",
       "11312   0    0    0        0          0          0      0      0   \n",
       "11313   0    0    0        0          0          0      0      0   \n",
       "\n",
       "       abbreviation  abdication  ...  zombie  zonal  zone  zoning  zoo  zooid  \\\n",
       "0                 0           0  ...       0      0     0       0    0      0   \n",
       "1                 0           0  ...       0      0     0       0    0      0   \n",
       "2                 0           0  ...       0      0     0       0    0      0   \n",
       "3                 0           0  ...       0      0     0       0    0      0   \n",
       "4                 0           0  ...       0      0     0       0    0      0   \n",
       "...             ...         ...  ...     ...    ...   ...     ...  ...    ...   \n",
       "11309             0           0  ...       0      0     0       0    0      0   \n",
       "11310             0           0  ...       0      0     0       0    0      0   \n",
       "11311             0           0  ...       0      0     0       0    0      0   \n",
       "11312             0           0  ...       0      0     0       0    0      0   \n",
       "11313             0           0  ...       0      0     0       0    0      0   \n",
       "\n",
       "       zoological  zoology  zoom  zorro  \n",
       "0               0        0     0      0  \n",
       "1               0        0     0      0  \n",
       "2               0        0     0      0  \n",
       "3               0        0     0      0  \n",
       "4               0        0     0      0  \n",
       "...           ...      ...   ...    ...  \n",
       "11309           0        0     0      0  \n",
       "11310           0        0     0      0  \n",
       "11311           0        0     0      0  \n",
       "11312           0        0     0      0  \n",
       "11313           0        0     0      0  \n",
       "\n",
       "[11314 rows x 19771 columns]"
      ],
      "text/html": "<div>\n<style scoped>\n    .dataframe tbody tr th:only-of-type {\n        vertical-align: middle;\n    }\n\n    .dataframe tbody tr th {\n        vertical-align: top;\n    }\n\n    .dataframe thead th {\n        text-align: right;\n    }\n</style>\n<table border=\"1\" class=\"dataframe\">\n  <thead>\n    <tr style=\"text-align: right;\">\n      <th></th>\n      <th>aa</th>\n      <th>aam</th>\n      <th>aba</th>\n      <th>abandon</th>\n      <th>abandoned</th>\n      <th>abatement</th>\n      <th>abbey</th>\n      <th>abbot</th>\n      <th>abbreviation</th>\n      <th>abdication</th>\n      <th>...</th>\n      <th>zombie</th>\n      <th>zonal</th>\n      <th>zone</th>\n      <th>zoning</th>\n      <th>zoo</th>\n      <th>zooid</th>\n      <th>zoological</th>\n      <th>zoology</th>\n      <th>zoom</th>\n      <th>zorro</th>\n    </tr>\n  </thead>\n  <tbody>\n    <tr>\n      <th>0</th>\n      <td>0</td>\n      <td>0</td>\n      <td>0</td>\n      <td>0</td>\n      <td>0</td>\n      <td>0</td>\n      <td>0</td>\n      <td>0</td>\n      <td>0</td>\n      <td>0</td>\n      <td>...</td>\n      <td>0</td>\n      <td>0</td>\n      <td>0</td>\n      <td>0</td>\n      <td>0</td>\n      <td>0</td>\n      <td>0</td>\n      <td>0</td>\n      <td>0</td>\n      <td>0</td>\n    </tr>\n    <tr>\n      <th>1</th>\n      <td>0</td>\n      <td>0</td>\n      <td>0</td>\n      <td>0</td>\n      <td>0</td>\n      <td>0</td>\n      <td>0</td>\n      <td>0</td>\n      <td>0</td>\n      <td>0</td>\n      <td>...</td>\n      <td>0</td>\n      <td>0</td>\n      <td>0</td>\n      <td>0</td>\n      <td>0</td>\n      <td>0</td>\n      <td>0</td>\n      <td>0</td>\n      <td>0</td>\n      <td>0</td>\n    </tr>\n    <tr>\n      <th>2</th>\n      <td>0</td>\n      <td>0</td>\n      <td>0</td>\n      <td>0</td>\n      <td>0</td>\n      <td>0</td>\n      <td>0</td>\n      <td>0</td>\n      <td>0</td>\n      <td>0</td>\n      <td>...</td>\n      <td>0</td>\n      <td>0</td>\n      <td>0</td>\n      <td>0</td>\n      <td>0</td>\n      <td>0</td>\n      <td>0</td>\n      <td>0</td>\n      <td>0</td>\n      <td>0</td>\n    </tr>\n    <tr>\n      <th>3</th>\n      <td>0</td>\n      <td>0</td>\n      <td>0</td>\n      <td>0</td>\n      <td>0</td>\n      <td>0</td>\n      <td>0</td>\n      <td>0</td>\n      <td>0</td>\n      <td>0</td>\n      <td>...</td>\n      <td>0</td>\n      <td>0</td>\n      <td>0</td>\n      <td>0</td>\n      <td>0</td>\n      <td>0</td>\n      <td>0</td>\n      <td>0</td>\n      <td>0</td>\n      <td>0</td>\n    </tr>\n    <tr>\n      <th>4</th>\n      <td>0</td>\n      <td>0</td>\n      <td>0</td>\n      <td>0</td>\n      <td>0</td>\n      <td>0</td>\n      <td>0</td>\n      <td>0</td>\n      <td>0</td>\n      <td>0</td>\n      <td>...</td>\n      <td>0</td>\n      <td>0</td>\n      <td>0</td>\n      <td>0</td>\n      <td>0</td>\n      <td>0</td>\n      <td>0</td>\n      <td>0</td>\n      <td>0</td>\n      <td>0</td>\n    </tr>\n    <tr>\n      <th>...</th>\n      <td>...</td>\n      <td>...</td>\n      <td>...</td>\n      <td>...</td>\n      <td>...</td>\n      <td>...</td>\n      <td>...</td>\n      <td>...</td>\n      <td>...</td>\n      <td>...</td>\n      <td>...</td>\n      <td>...</td>\n      <td>...</td>\n      <td>...</td>\n      <td>...</td>\n      <td>...</td>\n      <td>...</td>\n      <td>...</td>\n      <td>...</td>\n      <td>...</td>\n      <td>...</td>\n    </tr>\n    <tr>\n      <th>11309</th>\n      <td>0</td>\n      <td>0</td>\n      <td>0</td>\n      <td>0</td>\n      <td>0</td>\n      <td>0</td>\n      <td>0</td>\n      <td>0</td>\n      <td>0</td>\n      <td>0</td>\n      <td>...</td>\n      <td>0</td>\n      <td>0</td>\n      <td>0</td>\n      <td>0</td>\n      <td>0</td>\n      <td>0</td>\n      <td>0</td>\n      <td>0</td>\n      <td>0</td>\n      <td>0</td>\n    </tr>\n    <tr>\n      <th>11310</th>\n      <td>0</td>\n      <td>0</td>\n      <td>0</td>\n      <td>0</td>\n      <td>0</td>\n      <td>0</td>\n      <td>0</td>\n      <td>0</td>\n      <td>0</td>\n      <td>0</td>\n      <td>...</td>\n      <td>0</td>\n      <td>0</td>\n      <td>0</td>\n      <td>0</td>\n      <td>0</td>\n      <td>0</td>\n      <td>0</td>\n      <td>0</td>\n      <td>0</td>\n      <td>0</td>\n    </tr>\n    <tr>\n      <th>11311</th>\n      <td>0</td>\n      <td>0</td>\n      <td>0</td>\n      <td>0</td>\n      <td>0</td>\n      <td>0</td>\n      <td>0</td>\n      <td>0</td>\n      <td>0</td>\n      <td>0</td>\n      <td>...</td>\n      <td>0</td>\n      <td>0</td>\n      <td>0</td>\n      <td>0</td>\n      <td>0</td>\n      <td>0</td>\n      <td>0</td>\n      <td>0</td>\n      <td>0</td>\n      <td>0</td>\n    </tr>\n    <tr>\n      <th>11312</th>\n      <td>0</td>\n      <td>0</td>\n      <td>0</td>\n      <td>0</td>\n      <td>0</td>\n      <td>0</td>\n      <td>0</td>\n      <td>0</td>\n      <td>0</td>\n      <td>0</td>\n      <td>...</td>\n      <td>0</td>\n      <td>0</td>\n      <td>0</td>\n      <td>0</td>\n      <td>0</td>\n      <td>0</td>\n      <td>0</td>\n      <td>0</td>\n      <td>0</td>\n      <td>0</td>\n    </tr>\n    <tr>\n      <th>11313</th>\n      <td>0</td>\n      <td>0</td>\n      <td>0</td>\n      <td>0</td>\n      <td>0</td>\n      <td>0</td>\n      <td>0</td>\n      <td>0</td>\n      <td>0</td>\n      <td>0</td>\n      <td>...</td>\n      <td>0</td>\n      <td>0</td>\n      <td>0</td>\n      <td>0</td>\n      <td>0</td>\n      <td>0</td>\n      <td>0</td>\n      <td>0</td>\n      <td>0</td>\n      <td>0</td>\n    </tr>\n  </tbody>\n</table>\n<p>11314 rows × 19771 columns</p>\n</div>"
     },
     "metadata": {},
     "execution_count": 17
    }
   ],
   "source": [
    "# Vetores de características com NLTK (lematização, remoção de stopwords e palavras desconhecidas)\n",
    "\n",
    "vetorizador_tratado = CountVectorizer(tokenizer=NLTKTokenizer())\n",
    "v2 = vetorizador_tratado.fit_transform(X_train)\n",
    "\n",
    "features = vetorizador_tratado.get_feature_names()\n",
    "v2_df = pd.DataFrame(v2.toarray(), columns = features)\n",
    "v2_df"
   ]
  },
  {
   "cell_type": "code",
   "execution_count": 10,
   "metadata": {},
   "outputs": [
    {
     "output_type": "execute_result",
     "data": {
      "text/plain": [
       "array([': \\n: >> Please enlighten me.  How is omnipotence contradictory?\\n: \\n: >By definition, all that can occur in the universe is governed by the rules\\n: >of nature. Thus god cannot break them. Anything that god does must be allowed\\n: >in the rules somewhere. Therefore, omnipotence CANNOT exist! It contradicts\\n: >the rules of nature.\\n: \\n: Obviously, an omnipotent god can change the rules.\\n\\nWhen you say, \"By definition\", what exactly is being defined;\\ncertainly not omnipotence. You seem to be saying that the \"rules of\\nnature\" are pre-existant somehow, that they not only define nature but\\nactually cause it. If that\\'s what you mean I\\'d like to hear your\\nfurther thoughts on the question.',\n",
       "       \"In <19APR199320262420@kelvin.jpl.nasa.gov> baalke@kelvin.jpl.nasa.gov \\n\\nSorry I think I missed a bit of info on this Transition Experiment. What is it?\\n\\nWill this mean a loss of data or will the Magellan transmit data later on ??\\n\\nBTW: When will NASA cut off the connection with Magellan?? Not that I am\\nlooking forward to that day but I am just curious. I believe it had something\\nto do with the funding from the goverment (or rather _NO_ funding :-)\\n\\nok that's it for now. See you guys around,\\nJurriaan.\\n \",\n",
       "       '\\nHenry, I made the assumption that he who gets there firstest with the mostest\\nwins. \\n\\nOhhh, you want to put in FINE PRINT which says \"Thou shall do wonderous R&D\\nrather than use off-the-shelf hardware\"? Sorry, didn\\'t see that in my copy.\\nMost of the Pournellesque proposals run along the lines of <some dollar\\namount> reward for <some simple goal>.  \\n\\nYou go ahead and do your development, I\\'ll buy off the shelf at higher cost (or\\neven Russian; but I also assume that there\\'d be some \"Buy US\" provos in there)\\nand be camped out in the Moon while you are launching and assembling little\\nitty-bitty payloads in LEO with your laser or gas gun.  And working out the\\nbugs of assembly & integration in LEO. \\n\\nOh, hey, could I get a couple of CanadARMs tuned for the lunar environment?  I\\nwanna do some teleoperated prospecting while I\\'m up there...\\n\\n\\n',\n",
       "       ...,\n",
       "       \"   We publish plenty kiddo,you just have to look.\\n -----------------------------------------------------------------\\n .sig files are like strings ... every yo-yo's got one.\",\n",
       "       \"Okay, lets get the record straight on the Livermore gas gun.  \\nThe project manager is Dr. John Hunter, and he works for the\\nLaser group at Livermore.  What, you may ask, does gas guns\\nhave to do with lasers? Nothing, really, but the gun is physically\\nlocated across the road from the Free Electron Laser building,\\nand the FEL building has a heavily shielded control room (thick walls)\\nfrom which the gun firings are controlled.  So I suspect that the\\noffice he works for is an administrative convenience.\\n\\nI visited Hunter at the beginning of Feb. and we toured the gun.\\nAt the time I was working on gas gun R&D at Boeing, where I work,\\nbut I am now doing other things (helping to save the space station),\\n\\nThe gun uses a methane-air mixture, which is burned in a chamber\\nabout 200 ft long by 16 inch ID (i.e. it looks like a pipe).\\nThe chamber holds a 1 ton piston which is propelled at several\\nhundred m/s down the chamber.  On the other side of the piston\\nis hudrogen gas, initially at room temperature andsome tens\\nof atmospheres.\\n\\nThe piston compresses and heats the hydrogen ahead of it until\\na stainless steel burst diaphragm ruptures, at around 50,000 psi.\\nThe barrel of the gun is about 100 feet long and has a 4 inch\\nbore.  It is mounted at right angles to the chamber (i.e. they\\nintersect).  This was done so that in the future, the barrel\\ncould be raised and the gun fired into the air without having to\\nmove the larger and heavier chamber.  The projectile being used\\nin testing is a 5 kg cylinder of Lexan plastic, 4 in in diameter\\nand about 50 cm long.\\n\\nAll of the acceleration comes from the expansion of the hydrogen\\ngas from 50,000 psi downwards until the projectile leaves the\\nbarrel.  The barrel is evacuated, and the end is sealed with a\\nsheet of plastic film (a little thicker than Saran wrap).  The\\nplastic is blown off by the small amount of residual air trapped\\nin the barrel ahead of the projectile.  \\n\\nThe gun is fired into a bunker filled with sandbags and plastic\\nwater jugs.  In the early testing fragments of the plastic\\nprojectile were found.  At the higher speeds in later testing,\\nthe projectile vaporizes.\\n\\nThe testing is into a bunker because the Livermore test range is\\nabout 3 miles across, and the projectile would go 100-200 km\\nif fired for maximum range.  The intent is to move the whole gun\\nto Vandenberg AFB after the testing is complete, where they can\\nfire into the Pacific Ocean, and use the tracking radar at VAFB\\nto follow the projectiles.\\n\\nThe design goal of the gun is to throw a 5 kg projectile at 4\\nkm/s (half of orbital speed).  So far they have reached 2 km/s,\\nand the gun is currently down for repairs, as on the last test\\nthey blew a seal and damaged some of the hardware (I think it\\nhad to do with the methane-air more detonating than burning, but\\nI haven't had a chance to talk to Hunter directly on this).\\n\\nThere are people waiting to test scramjet components in this\\ngun by firing then out of the gun into the air (at Mach 12=\\n4 km/s), since the most you can get in wind tunnels is Mach 8.\\n\\nThis gun cost about 4 million to develop, and is basically\\na proof-of-concept for a bigger gun capable of firing useful-\\nsized payloads into space.  This would require on the order of\\n100 kg projectiles, which deliver on the order of 20 kg\\nuseful payload to orbit.\\n\\nDani Eder\\n\",\n",
       "       'It has been known for quite a while that the earth is actually more pear\\nshaped than globular/spherical.  Does anyone make a \"globe\" that is accurate\\nas to actual shape, landmass configuration/Long/Lat lines etc.?\\nThanks in advance.\\n\\n--\\n\\nbill@xpresso.UUCP                   (Bill Vance),             Bothell, WA\\nrwing!xpresso!bill'],\n",
       "      dtype='<U50957')"
      ]
     },
     "metadata": {},
     "execution_count": 10
    }
   ],
   "source": [
    "X_train"
   ]
  },
  {
   "cell_type": "code",
   "execution_count": 18,
   "metadata": {},
   "outputs": [
    {
     "output_type": "stream",
     "name": "stdout",
     "text": [
      "              precision    recall  f1-score   support\n\n           0       0.06      0.17      0.09       319\n           1       0.08      0.22      0.11       389\n           2       0.08      0.22      0.11       394\n           3       0.11      0.12      0.12       392\n           4       0.06      0.11      0.08       385\n           5       0.36      0.08      0.14       395\n           6       0.17      0.14      0.15       390\n           7       0.06      0.09      0.07       396\n           8       0.12      0.07      0.09       398\n           9       0.10      0.13      0.11       397\n          10       0.15      0.14      0.15       399\n          11       0.07      0.02      0.03       396\n          12       0.10      0.03      0.05       393\n          13       0.08      0.03      0.04       396\n          14       0.17      0.05      0.07       394\n          15       0.08      0.01      0.01       398\n          16       0.08      0.02      0.03       364\n          17       0.19      0.10      0.13       376\n          18       0.16      0.06      0.08       310\n          19       0.04      0.03      0.03       251\n\n    accuracy                           0.09      7532\n   macro avg       0.12      0.09      0.09      7532\nweighted avg       0.12      0.09      0.09      7532\n\n"
     ]
    }
   ],
   "source": [
    "# KNN\n",
    "\n",
    "from sklearn.neighbors import KNeighborsClassifier\n",
    "\n",
    "text_clf_knn = Pipeline([('vect', CountVectorizer(tokenizer=NLTKTokenizer())),\n",
    "                     ('tfidf', TfidfTransformer()),\n",
    "                     ('clf', KNeighborsClassifier(n_neighbors=5, \n",
    "                                                  weights='uniform', \n",
    "                                                  algorithm='auto', \n",
    "                                                  leaf_size=30, \n",
    "                                                  p=2, \n",
    "                                                  metric='minkowski', \n",
    "                                                  metric_params=None, \n",
    "                                                  n_jobs=None)),\n",
    "                     ])\n",
    "\n",
    "text_clf_knn.fit(X_train, y_train)\n",
    "predicted = text_clf_knn.predict(X_test)\n",
    "print(metrics.classification_report(y_test, predicted))"
   ]
  },
  {
   "cell_type": "code",
   "execution_count": 19,
   "metadata": {},
   "outputs": [],
   "source": [
    "import joblib"
   ]
  },
  {
   "cell_type": "code",
   "execution_count": 20,
   "metadata": {},
   "outputs": [
    {
     "output_type": "execute_result",
     "data": {
      "text/plain": [
       "['finalized_model.sav']"
      ]
     },
     "metadata": {},
     "execution_count": 20
    }
   ],
   "source": [
    "filename = 'finalized_model.sav'\n",
    "joblib.dump(text_clf_knn, filename)"
   ]
  }
 ]
}